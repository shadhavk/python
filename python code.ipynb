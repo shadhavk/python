{
 "cells": [
  {
   "cell_type": "markdown",
   "id": "f443497d",
   "metadata": {},
   "source": [
    "# Program using variables, constants, input output statements in python"
   ]
  },
  {
   "cell_type": "code",
   "execution_count": 24,
   "id": "c8c78ddc",
   "metadata": {},
   "outputs": [
    {
     "name": "stdout",
     "output_type": "stream",
     "text": [
      "Enter the radius of a circle: 2\n",
      "The area of the circle with radius 2.0 is 12.57\n"
     ]
    }
   ],
   "source": [
    "# Constants (usually defined in uppercase)\n",
    "PI = 3.14159\n",
    "\n",
    "# Input: Get the radius from the user\n",
    "radius = float(input(\"Enter the radius of a circle: \"))\n",
    "\n",
    "# Calculate the area\n",
    "area = PI * radius**2\n",
    "\n",
    "# Output: Display the result\n",
    "print(f\"The area of the circle with radius {radius} is {area:.2f}\")\n"
   ]
  },
  {
   "cell_type": "markdown",
   "id": "4bd158d2",
   "metadata": {},
   "source": [
    "\n",
    "# Program using operators in python"
   ]
  },
  {
   "cell_type": "code",
   "execution_count": 2,
   "id": "c3e9f6f2",
   "metadata": {},
   "outputs": [
    {
     "name": "stdout",
     "output_type": "stream",
     "text": [
      "Arithmetic Operators:\n",
      "Addition: 15\n",
      "Subtraction: 5\n",
      "Multiplication: 50\n",
      "Division: 2.0\n",
      "Remainder: 0\n",
      "Exponentiation: 100000\n",
      "Floor Division: 2\n",
      "\n",
      "Comparison Operators:\n",
      "Is Equal: False\n",
      "Is Not Equal: True\n",
      "Is Greater Than: True\n",
      "Is Less Than: False\n",
      "Is Greater Than or Equal: True\n",
      "Is Less Than or Equal: False\n",
      "\n",
      "Logical Operators:\n",
      "Logical AND: False\n",
      "Logical OR: True\n",
      "Logical NOT: False\n"
     ]
    }
   ],
   "source": [
    "# Arithmetic Operators\n",
    "num1 = 10\n",
    "num2 = 5\n",
    "\n",
    "addition = num1 + num2\n",
    "subtraction = num1 - num2\n",
    "multiplication = num1 * num2\n",
    "division = num1 / num2\n",
    "remainder = num1 % num2\n",
    "exponentiation = num1 ** num2\n",
    "floor_division = num1 // num2\n",
    "\n",
    "# Comparison Operators\n",
    "is_equal = num1 == num2\n",
    "is_not_equal = num1 != num2\n",
    "is_greater_than = num1 > num2\n",
    "is_less_than = num1 < num2\n",
    "is_greater_than_or_equal = num1 >= num2\n",
    "is_less_than_or_equal = num1 <= num2\n",
    "\n",
    "# Logical Operators\n",
    "is_true = True\n",
    "is_false = False\n",
    "\n",
    "logical_and = is_true and is_false\n",
    "logical_or = is_true or is_false\n",
    "logical_not = not is_true\n",
    "\n",
    "# Output\n",
    "print(\"Arithmetic Operators:\")\n",
    "print(f\"Addition: {addition}\")\n",
    "print(f\"Subtraction: {subtraction}\")\n",
    "print(f\"Multiplication: {multiplication}\")\n",
    "print(f\"Division: {division}\")\n",
    "print(f\"Remainder: {remainder}\")\n",
    "print(f\"Exponentiation: {exponentiation}\")\n",
    "print(f\"Floor Division: {floor_division}\")\n",
    "\n",
    "print(\"\\nComparison Operators:\")\n",
    "print(f\"Is Equal: {is_equal}\")\n",
    "print(f\"Is Not Equal: {is_not_equal}\")\n",
    "print(f\"Is Greater Than: {is_greater_than}\")\n",
    "print(f\"Is Less Than: {is_less_than}\")\n",
    "print(f\"Is Greater Than or Equal: {is_greater_than_or_equal}\")\n",
    "print(f\"Is Less Than or Equal: {is_less_than_or_equal}\")\n",
    "\n",
    "print(\"\\nLogical Operators:\")\n",
    "print(f\"Logical AND: {logical_and}\")\n",
    "print(f\"Logical OR: {logical_or}\")\n",
    "print(f\"Logical NOT: {logical_not}\")\n"
   ]
  },
  {
   "cell_type": "markdown",
   "id": "a3106e44",
   "metadata": {},
   "source": [
    "# Program using conditional statements"
   ]
  },
  {
   "cell_type": "code",
   "execution_count": 3,
   "id": "9ff5e42e",
   "metadata": {},
   "outputs": [
    {
     "name": "stdout",
     "output_type": "stream",
     "text": [
      "Enter a number: 4\n",
      "The number is positive.\n"
     ]
    }
   ],
   "source": [
    "# Input: Get a number from the user\n",
    "number = float(input(\"Enter a number: \"))\n",
    "\n",
    "# Conditional Statements\n",
    "if number > 0:\n",
    "    print(\"The number is positive.\")\n",
    "elif number < 0:\n",
    "    print(\"The number is negative.\")\n",
    "else:\n",
    "    print(\"The number is zero.\")\n"
   ]
  },
  {
   "cell_type": "markdown",
   "id": "9861d241",
   "metadata": {},
   "source": [
    "# Program using loops"
   ]
  },
  {
   "cell_type": "code",
   "execution_count": 4,
   "id": "2c7b8432",
   "metadata": {},
   "outputs": [
    {
     "name": "stdout",
     "output_type": "stream",
     "text": [
      "\n",
      "Using a while loop:\n",
      "The sum of numbers from 1 to 5 is 15.\n"
     ]
    }
   ],
   "source": [
    "# Using a while loop to calculate the sum of numbers from 1 to 5\n",
    "print(\"\\nUsing a while loop:\")\n",
    "total = 0\n",
    "num = 1\n",
    "while num <= 5:\n",
    "    total += num\n",
    "    num += 1\n",
    "print(f\"The sum of numbers from 1 to 5 is {total}.\")\n"
   ]
  },
  {
   "cell_type": "markdown",
   "id": "c772c75f",
   "metadata": {},
   "source": [
    "# Program using jump statements"
   ]
  },
  {
   "cell_type": "code",
   "execution_count": 6,
   "id": "e5c3f228",
   "metadata": {},
   "outputs": [
    {
     "name": "stdout",
     "output_type": "stream",
     "text": [
      "Using 'break' to exit a loop:\n",
      "1\n",
      "2\n",
      "3\n",
      "4\n",
      "\n",
      "Using 'continue' to skip iteration:\n",
      "1\n",
      "3\n",
      "5\n",
      "7\n",
      "9\n"
     ]
    }
   ],
   "source": [
    "# Using 'break' to exit a loop\n",
    "print(\"Using 'break' to exit a loop:\")\n",
    "for i in range(1, 11):\n",
    "    if i == 5:\n",
    "        break  # Exit the loop when i equals 5\n",
    "    print(i)\n",
    "    \n",
    "# Using 'continue' to skip iteration\n",
    "print(\"\\nUsing 'continue' to skip iteration:\")\n",
    "for i in range(1, 11):\n",
    "    if i % 2 == 0:\n",
    "        continue  # Skip even numbers\n",
    "    print(i)\n",
    "\n"
   ]
  },
  {
   "cell_type": "markdown",
   "id": "99c8119e",
   "metadata": {},
   "source": [
    "# Program using function"
   ]
  },
  {
   "cell_type": "code",
   "execution_count": 10,
   "id": "cac3fc2b",
   "metadata": {},
   "outputs": [
    {
     "name": "stdout",
     "output_type": "stream",
     "text": [
      "The square of 5 is 25\n",
      "The sum of 10 and 7 is 17\n",
      "Enter your name: shadha\n",
      "Hello, shadha!\n"
     ]
    }
   ],
   "source": [
    "# Define a function to calculate the square of a number\n",
    "def square(number):\n",
    "    return number ** 2\n",
    "\n",
    "# Define a function to calculate the sum of two numbers\n",
    "def add_numbers(a, b):\n",
    "    return a + b\n",
    "\n",
    "# Define a function to greet the user\n",
    "def greet(name):\n",
    "    return f\"Hello, {name}!\"\n",
    "\n",
    "# Call the functions and display the results\n",
    "num = 5\n",
    "result_square = square(num)\n",
    "print(f\"The square of {num} is {result_square}\")\n",
    "\n",
    "x = 10\n",
    "y = 7\n",
    "result_add = add_numbers(x, y)\n",
    "print(f\"The sum of {x} and {y} is {result_add}\")\n",
    "\n",
    "user_name = input(\"Enter your name: \")\n",
    "greeting = greet(user_name)\n",
    "print(greeting)\n"
   ]
  },
  {
   "cell_type": "markdown",
   "id": "3ce8bb8c",
   "metadata": {},
   "source": [
    "# Program using recursion"
   ]
  },
  {
   "cell_type": "code",
   "execution_count": 11,
   "id": "b4ccf52e",
   "metadata": {},
   "outputs": [
    {
     "name": "stdout",
     "output_type": "stream",
     "text": [
      "Enter a non-negative integer: 4\n",
      "The factorial of 4 is 24\n"
     ]
    }
   ],
   "source": [
    "# Define a recursive function to calculate factorial\n",
    "def factorial(n):\n",
    "    if n == 0:\n",
    "        return 1\n",
    "    else:\n",
    "        return n * factorial(n - 1)\n",
    "\n",
    "# Input: Get a number from the user\n",
    "num = int(input(\"Enter a non-negative integer: \"))\n",
    "\n",
    "# Check if the input is non-negative\n",
    "if num < 0:\n",
    "    print(\"Factorial is not defined for negative numbers.\")\n",
    "else:\n",
    "    result = factorial(num)\n",
    "    print(f\"The factorial of {num} is {result}\")\n"
   ]
  },
  {
   "cell_type": "markdown",
   "id": "aaced158",
   "metadata": {},
   "source": [
    "# Program using arrays"
   ]
  },
  {
   "cell_type": "code",
   "execution_count": 12,
   "id": "b9c3b290",
   "metadata": {},
   "outputs": [
    {
     "name": "stdout",
     "output_type": "stream",
     "text": [
      "Elements in the array:\n",
      "2\n",
      "4\n",
      "6\n",
      "8\n",
      "10\n",
      "\n",
      "Modified Array:\n",
      "[2, 3, 6, 10, 12]\n",
      "Array Length: 5\n",
      "Array Sum: 33\n"
     ]
    }
   ],
   "source": [
    "# Define an array (list) of numbers\n",
    "numbers = [2, 4, 6, 8, 10]\n",
    "\n",
    "# Accessing elements in the array\n",
    "print(\"Elements in the array:\")\n",
    "for number in numbers:\n",
    "    print(number)\n",
    "\n",
    "# Adding an element to the end of the array\n",
    "numbers.append(12)\n",
    "\n",
    "# Modifying an element in the array\n",
    "numbers[1] = 3\n",
    "\n",
    "# Removing an element from the array\n",
    "numbers.remove(8)\n",
    "\n",
    "# Finding the length of the array\n",
    "array_length = len(numbers)\n",
    "\n",
    "# Summing all elements in the array\n",
    "array_sum = sum(numbers)\n",
    "\n",
    "# Sorting the array in ascending order\n",
    "numbers.sort()\n",
    "\n",
    "# Display the modified array and additional information\n",
    "print(\"\\nModified Array:\")\n",
    "print(numbers)\n",
    "print(f\"Array Length: {array_length}\")\n",
    "print(f\"Array Sum: {array_sum}\")\n"
   ]
  },
  {
   "cell_type": "markdown",
   "id": "0c1e6ee8",
   "metadata": {},
   "source": [
    "# Program using strings"
   ]
  },
  {
   "cell_type": "code",
   "execution_count": 13,
   "id": "8aebf5ca",
   "metadata": {},
   "outputs": [
    {
     "name": "stdout",
     "output_type": "stream",
     "text": [
      "Original String: Hello, World!\n",
      "First Character: H\n",
      "Last Character: !\n",
      "Substring: World\n",
      "Concatenated Greeting: Hello, Alice!\n",
      "String Length: 13\n",
      "Uppercase String: HELLO, WORLD!\n",
      "Lowercase String: hello, world!\n",
      "Formatted String: Hello, Alice!\n"
     ]
    }
   ],
   "source": [
    "# Define a string\n",
    "my_string = \"Hello, World!\"\n",
    "\n",
    "# Accessing characters in the string\n",
    "first_char = my_string[0]  # Access the first character (index 0)\n",
    "last_char = my_string[-1]   # Access the last character (index -1)\n",
    "\n",
    "# Slicing the string\n",
    "substring = my_string[7:12]  # Get a substring \"World\"\n",
    "\n",
    "# Concatenating strings\n",
    "greeting = \"Hello\"\n",
    "name = \"Alice\"\n",
    "full_greeting = greeting + \", \" + name + \"!\"\n",
    "\n",
    "# String length\n",
    "string_length = len(my_string)\n",
    "\n",
    "# String methods\n",
    "uppercase_string = my_string.upper()  # Convert to uppercase\n",
    "lowercase_string = my_string.lower()  # Convert to lowercase\n",
    "\n",
    "# String formatting\n",
    "formatted_string = \"Hello, {}!\".format(name)\n",
    "\n",
    "# Display the results\n",
    "print(\"Original String:\", my_string)\n",
    "print(\"First Character:\", first_char)\n",
    "print(\"Last Character:\", last_char)\n",
    "print(\"Substring:\", substring)\n",
    "print(\"Concatenated Greeting:\", full_greeting)\n",
    "print(\"String Length:\", string_length)\n",
    "print(\"Uppercase String:\", uppercase_string)\n",
    "print(\"Lowercase String:\", lowercase_string)\n",
    "print(\"Formatted String:\", formatted_string)\n"
   ]
  },
  {
   "cell_type": "markdown",
   "id": "bd2b5f84",
   "metadata": {},
   "source": [
    "# Program using modules"
   ]
  },
  {
   "cell_type": "code",
   "execution_count": 25,
   "id": "c8fb3749",
   "metadata": {},
   "outputs": [
    {
     "name": "stdout",
     "output_type": "stream",
     "text": [
      "Square Root of 25 is 5.0\n",
      "Factorial of 5 is 120\n",
      "Value of pi is approximately 3.1416\n",
      "Sine of 30 degrees is approximately 0.5000\n"
     ]
    }
   ],
   "source": [
    "# Import the math module\n",
    "import math\n",
    "\n",
    "# Calculate the square root of a number\n",
    "num = 25\n",
    "square_root = math.sqrt(num)\n",
    "\n",
    "# Calculate the factorial of a number\n",
    "factorial = math.factorial(5)\n",
    "\n",
    "# Calculate the value of pi\n",
    "pi_value = math.pi\n",
    "\n",
    "# Calculate the sine of an angle in radians\n",
    "angle_radians = math.radians(30)\n",
    "sine_value = math.sin(angle_radians)\n",
    "\n",
    "# Display the results\n",
    "print(f\"Square Root of {num} is {square_root}\")\n",
    "print(f\"Factorial of 5 is {factorial}\")\n",
    "print(f\"Value of pi is approximately {pi_value:.4f}\")\n",
    "print(f\"Sine of 30 degrees is approximately {sine_value:.4f}\")\n"
   ]
  },
  {
   "cell_type": "markdown",
   "id": "84081f62",
   "metadata": {},
   "source": [
    "# Program using lists"
   ]
  },
  {
   "cell_type": "code",
   "execution_count": 15,
   "id": "7e16e356",
   "metadata": {},
   "outputs": [
    {
     "name": "stdout",
     "output_type": "stream",
     "text": [
      "Original List: [2, 7, 8, 10, 12]\n",
      "First Element: 2\n",
      "Last Element: 10\n",
      "Subset of List: [4, 6, 8]\n",
      "Modified List: [2, 7, 8, 10, 12]\n",
      "List Length: 5\n",
      "List Sum: 39\n"
     ]
    }
   ],
   "source": [
    "# Define a list of numbers\n",
    "numbers = [2, 4, 6, 8, 10]\n",
    "\n",
    "# Accessing elements in the list\n",
    "first_number = numbers[0]     # Access the first element (index 0)\n",
    "last_number = numbers[-1]      # Access the last element (index -1)\n",
    "\n",
    "# Slicing the list\n",
    "subset = numbers[1:4]         # Get a subset of the list [4, 6, 8]\n",
    "\n",
    "# Modifying elements in the list\n",
    "numbers[2] = 7               # Change the third element to 7\n",
    "\n",
    "# Adding elements to the list\n",
    "numbers.append(12)           # Append 12 to the end of the list\n",
    "\n",
    "# Removing elements from the list\n",
    "numbers.remove(4)            # Remove the first occurrence of 4\n",
    "\n",
    "# Finding the length of the list\n",
    "list_length = len(numbers)\n",
    "\n",
    "# Summing all elements in the list\n",
    "list_sum = sum(numbers)\n",
    "\n",
    "# Sorting the list in ascending order\n",
    "numbers.sort()\n",
    "\n",
    "# Display the modified list and additional information\n",
    "print(\"Original List:\", numbers)\n",
    "print(\"First Element:\", first_number)\n",
    "print(\"Last Element:\", last_number)\n",
    "print(\"Subset of List:\", subset)\n",
    "print(\"Modified List:\", numbers)\n",
    "print(\"List Length:\", list_length)\n",
    "print(\"List Sum:\", list_sum)\n"
   ]
  },
  {
   "cell_type": "markdown",
   "id": "b709f733",
   "metadata": {},
   "source": [
    "# Program using tuples"
   ]
  },
  {
   "cell_type": "code",
   "execution_count": 16,
   "id": "0884610f",
   "metadata": {},
   "outputs": [
    {
     "name": "stdout",
     "output_type": "stream",
     "text": [
      "Original Tuple: ('apple', 'banana', 'cherry', 'date', 'elderberry')\n",
      "First Element: apple\n",
      "Last Element: elderberry\n",
      "Subset of Tuple: ('banana', 'cherry', 'date')\n",
      "Count of 'cherry': 1\n",
      "Index of 'date': 3\n"
     ]
    }
   ],
   "source": [
    "# Define a tuple of fruits\n",
    "fruits = (\"apple\", \"banana\", \"cherry\", \"date\", \"elderberry\")\n",
    "\n",
    "# Accessing elements in the tuple\n",
    "first_fruit = fruits[0]   # Access the first element (index 0)\n",
    "last_fruit = fruits[-1]    # Access the last element (index -1)\n",
    "\n",
    "# Slicing the tuple\n",
    "subset = fruits[1:4]      # Get a subset of the tuple (\"banana\", \"cherry\", \"date\")\n",
    "\n",
    "# Counting occurrences of an element\n",
    "cherry_count = fruits.count(\"cherry\")\n",
    "\n",
    "# Finding the index of an element\n",
    "date_index = fruits.index(\"date\")\n",
    "\n",
    "# Displaying the tuple and additional information\n",
    "print(\"Original Tuple:\", fruits)\n",
    "print(\"First Element:\", first_fruit)\n",
    "print(\"Last Element:\", last_fruit)\n",
    "print(\"Subset of Tuple:\", subset)\n",
    "print(\"Count of 'cherry':\", cherry_count)\n",
    "print(\"Index of 'date':\", date_index)\n"
   ]
  },
  {
   "cell_type": "markdown",
   "id": "ffb61c5f",
   "metadata": {},
   "source": [
    "# Program using dictionaries "
   ]
  },
  {
   "cell_type": "code",
   "execution_count": 23,
   "id": "ba7b4cd5",
   "metadata": {},
   "outputs": [
    {
     "name": "stdout",
     "output_type": "stream",
     "text": [
      "Original Dictionary:\n",
      "{'first_name': 'John', 'last_name': 'Doe', 'age': 21, 'major': 'Computer Science', 'email': 'john.doe@example.com'}\n",
      "First Name: John\n",
      "Last Name: Doe\n",
      "Modified Dictionary:\n",
      "{'first_name': 'John', 'last_name': 'Doe', 'age': 21, 'major': 'Computer Science', 'email': 'john.doe@example.com'}\n",
      "Has Email Key: True\n",
      "Dictionary Keys: dict_keys(['first_name', 'last_name', 'age', 'major', 'email'])\n",
      "Dictionary Values: dict_values(['John', 'Doe', 21, 'Computer Science', 'john.doe@example.com'])\n"
     ]
    }
   ],
   "source": [
    "# Define a dictionary of student information\n",
    "student = {\n",
    "    \"first_name\": \"John\",\n",
    "    \"last_name\": \"Doe\",\n",
    "    \"age\": 20,\n",
    "    \"major\": \"Computer Science\",\n",
    "    \"student_id\": \"12345\"\n",
    "}\n",
    "\n",
    "# Accessing values in the dictionary\n",
    "first_name = student[\"first_name\"]\n",
    "last_name = student[\"last_name\"]\n",
    "\n",
    "# Modifying values in the dictionary\n",
    "student[\"age\"] = 21\n",
    "\n",
    "# Adding a new key-value pair to the dictionary\n",
    "student[\"email\"] = \"john.doe@example.com\"\n",
    "\n",
    "# Removing a key-value pair from the dictionary\n",
    "student.pop(\"student_id\")\n",
    "\n",
    "# Checking if a key exists in the dictionary\n",
    "has_email = \"email\" in student\n",
    "\n",
    "# Getting the keys and values of the dictionary\n",
    "keys = student.keys()\n",
    "values = student.values()\n",
    "\n",
    "# Displaying the dictionary and additional information\n",
    "print(\"Original Dictionary:\")\n",
    "print(student)\n",
    "print(\"First Name:\", first_name)\n",
    "print(\"Last Name:\", last_name)\n",
    "print(\"Modified Dictionary:\")\n",
    "print(student)\n",
    "print(\"Has Email Key:\", has_email)\n",
    "print(\"Dictionary Keys:\", keys)\n",
    "print(\"Dictionary Values:\", values)\n"
   ]
  },
  {
   "cell_type": "markdown",
   "id": "415158ab",
   "metadata": {},
   "source": [
    "# Program for file handling"
   ]
  },
  {
   "cell_type": "code",
   "execution_count": 19,
   "id": "e7987c27",
   "metadata": {},
   "outputs": [
    {
     "name": "stdout",
     "output_type": "stream",
     "text": [
      "File Contents:\n",
      "This is an example of file handling in Python.\n",
      "We can write to a file using the 'with' statement.\n",
      "File handling allows us to read and write data to files.\n",
      "\n"
     ]
    }
   ],
   "source": [
    "# Creating and Writing to a File\n",
    "with open(\"new_file.txt\", \"w\") as file:\n",
    "    file.write(\"This is an example of file handling in Python.\\n\")\n",
    "    file.write(\"We can write to a file using the 'with' statement.\\n\")\n",
    "    file.write(\"File handling allows us to read and write data to files.\\n\")\n",
    "\n",
    "# Reading from a File\n",
    "with open(\"new_file.txt\", \"r\") as file:\n",
    "    contents = file.read()\n",
    "\n",
    "# Displaying the file contents\n",
    "print(\"File Contents:\")\n",
    "print(contents)\n"
   ]
  }
 ],
 "metadata": {
  "kernelspec": {
   "display_name": "Python 3",
   "language": "python",
   "name": "python3"
  },
  "language_info": {
   "codemirror_mode": {
    "name": "ipython",
    "version": 3
   },
   "file_extension": ".py",
   "mimetype": "text/x-python",
   "name": "python",
   "nbconvert_exporter": "python",
   "pygments_lexer": "ipython3",
   "version": "3.8.8"
  }
 },
 "nbformat": 4,
 "nbformat_minor": 5
}
